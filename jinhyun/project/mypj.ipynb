{
 "cells": [
  {
   "cell_type": "code",
   "execution_count": 1,
   "metadata": {},
   "outputs": [
    {
     "name": "stdout",
     "output_type": "stream",
     "text": [
      "1\n",
      "739602\n",
      "4000\n",
      "2\n"
     ]
    }
   ],
   "source": [
    "import wave\n",
    "import struct\n",
    "\n",
    "wavefile=wave.open('3mm_decimate4.wav','r')\n",
    "nchannel=wavefile.getnchannels()\n",
    "length=wavefile.getnframes()\n",
    "print(nchannel)\n",
    "print(length)\n",
    "print(wavefile.getframerate())\n",
    "print(wavefile.getsampwidth())\n",
    "\n",
    "sampleRate = wavefile.getframerate() # hertz\n",
    "duration = 1.0       # seconds\n",
    "frequency = 440.0    # hertz\n",
    "\n",
    "nread=length\n",
    "if nread<=length:\n",
    "    nbytes=nchannel*nread\n",
    "    format=\"<\" + str(nbytes) + \"h\"\n",
    "    wavedata=wavefile.readframes(nread)\n",
    "    data_a=struct.unpack(format,wavedata)\n",
    "wavefile.close()\n",
    "\n",
    "if nchannel==1:\n",
    "    wave_channel1=list(data_a)\n",
    "elif nchannel==2:\n",
    "    wave_channel1=list(data_a[0::2])\n",
    "    wave_channel2=list(data_a[1::2])\n",
    "\n"
   ]
  },
  {
   "cell_type": "code",
   "execution_count": 2,
   "metadata": {},
   "outputs": [
    {
     "name": "stderr",
     "output_type": "stream",
     "text": [
      "Using TensorFlow backend.\n"
     ]
    },
    {
     "name": "stdout",
     "output_type": "stream",
     "text": [
      "1phase done\n",
      "2phase done\n",
      "Total Patterns:  366\n"
     ]
    }
   ],
   "source": [
    "import sys\n",
    "import numpy\n",
    "from keras.models import Sequential\n",
    "from keras.layers import Dense\n",
    "from keras.layers import Dropout\n",
    "from keras.layers import LSTM\n",
    "from keras.callbacks import ModelCheckpoint\n",
    "from keras.utils import np_utils\n",
    "\n",
    "\n",
    "seq_length = 8000\n",
    "dataX = []\n",
    "dataY = []\n",
    "print('1phase done')\n",
    "for i in range(0, (length - seq_length),2000):\n",
    "    seq_in = wave_channel1[i:i + seq_length]\n",
    "    dataX.append( seq_in)\n",
    "    dataY.append(i)\n",
    "print('2phase done')  \n",
    "n_patterns = len(dataX)\n",
    "print(\"Total Patterns: \", n_patterns)\n",
    "# reshape X to be [samples, time steps, features]\n",
    "X = numpy.reshape(dataX, (n_patterns, seq_length, 1))\n",
    "# normalize\n",
    "X = X / 32768.0\n"
   ]
  },
  {
   "cell_type": "code",
   "execution_count": null,
   "metadata": {},
   "outputs": [
    {
     "name": "stdout",
     "output_type": "stream",
     "text": [
      "Epoch 1/50\n",
      "216/366 [================>.............] - ETA: 1175s - loss: 5.5769"
     ]
    }
   ],
   "source": [
    "# one hot encode the output variable\n",
    "samplepos=length/256;\n",
    "datY=[(int)((dat)/samplepos) for dat in dataY]\n",
    "y = np_utils.to_categorical(datY)\n",
    "\n",
    "# define the LSTM model\n",
    "model = Sequential()\n",
    "model.add(LSTM(256, input_shape=(X.shape[1], X.shape[2]), return_sequences=True))\n",
    "model.add(Dropout(0.2))\n",
    "model.add(LSTM(256))\n",
    "model.add(Dropout(0.2))\n",
    "model.add(Dense(y.shape[1], activation='softmax'))\n",
    "model.compile(loss='categorical_crossentropy', optimizer='adam')\n",
    "# define the checkpoint\n",
    "filepath=\"weights-improvement-{epoch:02d}-{loss:.4f}-bigger.hdf5\"\n",
    "checkpoint = ModelCheckpoint(filepath, monitor='loss', verbose=1, save_best_only=True,\n",
    "mode='min')\n",
    "callbacks_list = [checkpoint]\n",
    "# fit the model\n",
    "model.fit(X, y, epochs=50, batch_size=4, callbacks=callbacks_list)"
   ]
  },
  {
   "cell_type": "code",
   "execution_count": null,
   "metadata": {
    "collapsed": true
   },
   "outputs": [],
   "source": [
    "wavefile=wave.open('seed.wav','r')\n",
    "nchannel=wavefile.getnchannels()\n",
    "slength=wavefile.getnframes()\n",
    "print(nchannel)\n",
    "print(slength)\n",
    "print(wavefile.getframerate())\n",
    "print(wavefile.getsampwidth())\n",
    "\n",
    "sampleRate = wavefile.getframerate() # hertz\n",
    "duration = 1.0       # seconds\n",
    "frequency = 440.0    # hertz\n",
    "\n",
    "sread=slength\n",
    "if sread<=length:\n",
    "    nbytes=nchannel*sread\n",
    "    format=\"<\" + str(nbytes) + \"h\"\n",
    "    wavedata=wavefile.readframes(sread)\n",
    "    data_a=struct.unpack(format,wavedata)\n",
    "wavefile.close()\n",
    "\n",
    "if nchannel==1:\n",
    "    seed1=list(data_a)\n",
    "elif nchannel==2:\n",
    "    seed1=list(data_a[0::2])\n",
    "    seed2=list(data_a[1::2])\n"
   ]
  },
  {
   "cell_type": "code",
   "execution_count": null,
   "metadata": {
    "collapsed": true
   },
   "outputs": [],
   "source": [
    "# define the LSTM model\n",
    "model = Sequential()\n",
    "model.add(LSTM(256, input_shape=(X.shape[1], X.shape[2]), return_sequences=True))\n",
    "model.add(Dropout(0.2))\n",
    "model.add(LSTM(256))\n",
    "model.add(Dropout(0.2))\n",
    "model.add(Dense(y.shape[1], activation='softmax'))\n",
    "# load the network weights\n",
    "filename = \"weights-improvement-30-1.7248-bigger.hdf5\"\n",
    "model.load_weights(filename)\n",
    "model.compile(loss='categorical_crossentropy', optimizer='adam')\n",
    "\n",
    "# pick a random seed\n",
    "pattern = seed1[0:8000]\n",
    "print(\"Seed:\")400-\n",
    "# generate characters\n",
    "x = numpy.reshape(pattern, (1, len(pattern), 1))\n",
    "x = x / float(n_vocab)\n",
    "prediction = model.predict(x, verbose=0)\n",
    "index = numpy.argmax(prediction)\n",
    "print(\"위치 : \"+(int)(index*samplepos/4000)+\"초\") \n",
    "print(\"\\nDone.\")"
   ]
  }
 ],
 "metadata": {
  "kernelspec": {
   "display_name": "Python 3",
   "language": "python",
   "name": "python3"
  },
  "language_info": {
   "codemirror_mode": {
    "name": "ipython",
    "version": 3
   },
   "file_extension": ".py",
   "mimetype": "text/x-python",
   "name": "python",
   "nbconvert_exporter": "python",
   "pygments_lexer": "ipython3",
   "version": "3.6.1"
  }
 },
 "nbformat": 4,
 "nbformat_minor": 2
}
